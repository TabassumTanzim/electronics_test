{
  "cells": [
    {
      "cell_type": "code",
      "execution_count": 1,
      "metadata": {
        "id": "LZoKg5OP8qlX"
      },
      "outputs": [],
      "source": [
        "#|default_exp app"
      ]
    },
    {
      "cell_type": "markdown",
      "metadata": {
        "id": "D5u_P9GY8zWE"
      },
      "source": [
        "# Electronics-Recognizer"
      ]
    },
    {
      "cell_type": "code",
      "execution_count": null,
      "metadata": {
        "id": "INF-un9I824k"
      },
      "outputs": [],
      "source": [
        "!pip install -Uqq fastai gradio nbdev"
      ]
    },
    {
      "cell_type": "code",
      "execution_count": 2,
      "metadata": {
        "colab": {
          "base_uri": "https://localhost:8080/"
        },
        "id": "qLu7VFS8BYp-",
        "outputId": "b4c3195a-ebe2-4388-bb03-03b83cbe123f"
      },
      "outputs": [
        {
          "name": "stdout",
          "output_type": "stream",
          "text": [
            "Mounted at /content/drive\n"
          ]
        }
      ],
      "source": [
        "from google.colab import drive\n",
        "drive.mount('/content/drive')"
      ]
    },
    {
      "cell_type": "code",
      "execution_count": 3,
      "metadata": {
        "colab": {
          "base_uri": "https://localhost:8080/"
        },
        "id": "cA86MXQHBdQO",
        "outputId": "d84897d0-e727-481f-e95f-e357ae866810"
      },
      "outputs": [
        {
          "name": "stdout",
          "output_type": "stream",
          "text": [
            "/content/drive/My Drive/MasterCourse/Electronics Recognizer\n"
          ]
        }
      ],
      "source": [
        "%cd /content/drive/My Drive/MasterCourse/Electronics Recognizer"
      ]
    },
    {
      "cell_type": "code",
      "execution_count": 3,
      "metadata": {
        "id": "Y0_5XDt6EQ3i"
      },
      "outputs": [
        {
          "ename": "ModuleNotFoundError",
          "evalue": "No module named 'fastai'",
          "output_type": "error",
          "traceback": [
            "\u001b[0;31m---------------------------------------------------------------------------\u001b[0m",
            "\u001b[0;31mModuleNotFoundError\u001b[0m                       Traceback (most recent call last)",
            "Cell \u001b[0;32mIn[3], line 1\u001b[0m\n\u001b[0;32m----> 1\u001b[0m \u001b[38;5;28;01mfrom\u001b[39;00m \u001b[38;5;21;01mfastai\u001b[39;00m\u001b[38;5;21;01m.\u001b[39;00m\u001b[38;5;21;01mvision\u001b[39;00m\u001b[38;5;21;01m.\u001b[39;00m\u001b[38;5;21;01mall\u001b[39;00m \u001b[38;5;28;01mimport\u001b[39;00m \u001b[38;5;241m*\u001b[39m\n",
            "\u001b[0;31mModuleNotFoundError\u001b[0m: No module named 'fastai'"
          ]
        }
      ],
      "source": [
        "from fastai.vision.all import *"
      ]
    },
    {
      "cell_type": "code",
      "execution_count": 29,
      "metadata": {
        "id": "OP0blxkf9Dgq"
      },
      "outputs": [],
      "source": [
        "#!export\n",
        "from fastai.vision.all import load_learner\n",
        "import gradio as gr"
      ]
    },
    {
      "cell_type": "code",
      "execution_count": 30,
      "metadata": {
        "id": "AOZzLKz7-TDR"
      },
      "outputs": [],
      "source": [
        "#!export\n",
        "model=load_learner(f'models/elec-recognizer-v4.pkl')"
      ]
    },
    {
      "cell_type": "code",
      "execution_count": 58,
      "metadata": {
        "id": "MhikeFNb-TL-"
      },
      "outputs": [],
      "source": [
        "#|export\n",
        "elec_labels=(\n",
        "    'Air Conditioner appliances',\n",
        "    'Air Fryer appliances',\n",
        "    'Blender appliances',\n",
        "    'Clothes Dryer appliances',\n",
        "    'Coffee Maker appliances',\n",
        "    'Dish Washer appliances',\n",
        "    'Electric Guitar appliances',\n",
        "    'Electric toothbrush appliances',\n",
        "    'Fan appliances',\n",
        "    'Griller appliances',\n",
        "    'Hair dryer appliances',\n",
        "    'Heater appliances',\n",
        "    'Induction cooktop appliances ',\n",
        "    'Iron appliances',\n",
        "    'Kettle appliances',\n",
        "    'Microwave appliances',\n",
        "    'Mixer appliances',\n",
        "    'Refrigerator appliances',\n",
        "    'Rice Cooker appliances',\n",
        "    'Speaker appliances',\n",
        "    'Toaster appliances',\n",
        "    'Vacuum Cleaner appliances'\n",
        ")\n",
        "def recognize_image(image):\n",
        "  # image = input_image.resize((192, 192))\n",
        "  pred,idx,probs=model.predict(image)\n",
        "  return dict(zip(elec_labels,map(float,probs)))\n",
        "\n"
      ]
    },
    {
      "cell_type": "code",
      "execution_count": 59,
      "metadata": {
        "colab": {
          "base_uri": "https://localhost:8080/",
          "height": 209
        },
        "id": "QbaQLkZqAlh4",
        "outputId": "35550e4a-7525-4ddc-fbf0-fe2208f7c292"
      },
      "outputs": [
        {
          "data": {
            "image/png": "[encoded data removed]",
            "text/plain": [
              "<PIL.Image.Image image mode=RGB size=178x192>"
            ]
          },
          "execution_count": 59,
          "metadata": {},
          "output_type": "execute_result"
        }
      ],
      "source": [
        "from PIL import Image\n",
        "img = Image.open(f'test_images/unknown_01.jpg.webp')\n",
        "img.to_thumb(192,192)\n"
      ]
    },
    {
      "cell_type": "code",
      "execution_count": 60,
      "metadata": {
        "colab": {
          "base_uri": "https://localhost:8080/",
          "height": 34
        },
        "id": "3lO0BvD0Alka",
        "outputId": "bc42af45-ab46-4915-b8ac-341c350bb334"
      },
      "outputs": [
        {
          "data": {
            "text/html": [
              "\n",
              "<style>\n",
              "    /* Turns off some styling */\n",
              "    progress {\n",
              "        /* gets rid of default border in Firefox and Opera. */\n",
              "        border: none;\n",
              "        /* Needs to be in here for Safari polyfill so background images work as expected. */\n",
              "        background-size: auto;\n",
              "    }\n",
              "    progress:not([value]), progress:not([value])::-webkit-progress-bar {\n",
              "        background: repeating-linear-gradient(45deg, #7e7e7e, #7e7e7e 10px, #5c5c5c 10px, #5c5c5c 20px);\n",
              "    }\n",
              "    .progress-bar-interrupted, .progress-bar-interrupted::-webkit-progress-bar {\n",
              "        background: #F44336;\n",
              "    }\n",
              "</style>\n"
            ],
            "text/plain": [
              "<IPython.core.display.HTML object>"
            ]
          },
          "metadata": {},
          "output_type": "display_data"
        },
        {
          "data": {
            "text/html": [],
            "text/plain": [
              "<IPython.core.display.HTML object>"
            ]
          },
          "metadata": {},
          "output_type": "display_data"
        },
        {
          "data": {
            "text/plain": [
              "22"
            ]
          },
          "execution_count": 60,
          "metadata": {},
          "output_type": "execute_result"
        }
      ],
      "source": [
        "len(recognize_image(img))"
      ]
    },
    {
      "cell_type": "code",
      "execution_count": 61,
      "metadata": {
        "colab": {
          "base_uri": "https://localhost:8080/",
          "height": 391
        },
        "id": "UKO9_iXtCiEY",
        "outputId": "74d36e9b-46f6-4740-ffbb-9d6b8e886f2a"
      },
      "outputs": [
        {
          "data": {
            "text/html": [
              "\n",
              "<style>\n",
              "    /* Turns off some styling */\n",
              "    progress {\n",
              "        /* gets rid of default border in Firefox and Opera. */\n",
              "        border: none;\n",
              "        /* Needs to be in here for Safari polyfill so background images work as expected. */\n",
              "        background-size: auto;\n",
              "    }\n",
              "    progress:not([value]), progress:not([value])::-webkit-progress-bar {\n",
              "        background: repeating-linear-gradient(45deg, #7e7e7e, #7e7e7e 10px, #5c5c5c 10px, #5c5c5c 20px);\n",
              "    }\n",
              "    .progress-bar-interrupted, .progress-bar-interrupted::-webkit-progress-bar {\n",
              "        background: #F44336;\n",
              "    }\n",
              "</style>\n"
            ],
            "text/plain": [
              "<IPython.core.display.HTML object>"
            ]
          },
          "metadata": {},
          "output_type": "display_data"
        },
        {
          "data": {
            "text/html": [],
            "text/plain": [
              "<IPython.core.display.HTML object>"
            ]
          },
          "metadata": {},
          "output_type": "display_data"
        },
        {
          "data": {
            "text/plain": [
              "{'Air Conditioner appliances': 3.789353553163011e-11,\n",
              " 'Air Fryer appliances': 2.6762986271577915e-10,\n",
              " 'Blender appliances': 1.2193573262209156e-08,\n",
              " 'Clothes Dryer appliances': 8.451239708051617e-12,\n",
              " 'Coffee Maker appliances': 5.264509661540018e-11,\n",
              " 'Dish Washer appliances': 3.880323579813494e-12,\n",
              " 'Electric Guitar appliances': 1.1970174851327897e-10,\n",
              " 'Electric toothbrush appliances': 1.2677254801474191e-08,\n",
              " 'Fan appliances': 2.837603485517093e-10,\n",
              " 'Griller appliances': 5.64121145629759e-11,\n",
              " 'Hair dryer appliances': 1.0,\n",
              " 'Heater appliances': 3.0702532183291e-10,\n",
              " 'Induction cooktop appliances ': 9.259662481220232e-12,\n",
              " 'Iron appliances': 3.7239260564092547e-09,\n",
              " 'Kettle appliances': 2.4638766027429426e-10,\n",
              " 'Microwave appliances': 2.3231638834886326e-11,\n",
              " 'Mixer appliances': 5.283133930333861e-09,\n",
              " 'Refrigerator appliances': 8.410640239819855e-11,\n",
              " 'Rice Cooker appliances': 6.860782081341554e-11,\n",
              " 'Speaker appliances': 4.12378753367193e-09,\n",
              " 'Toaster appliances': 6.427430809807788e-11,\n",
              " 'Vacuum Cleaner appliances': 3.512485857726233e-09}"
            ]
          },
          "execution_count": 61,
          "metadata": {},
          "output_type": "execute_result"
        }
      ],
      "source": [
        "recognize_image(img)"
      ]
    },
    {
      "cell_type": "code",
      "execution_count": 65,
      "metadata": {
        "colab": {
          "base_uri": "https://localhost:8080/"
        },
        "id": "iKv7ghwxFdL3",
        "outputId": "63a20df4-d83c-48c8-8e87-f26ccd4e1c64"
      },
      "outputs": [
        {
          "name": "stdout",
          "output_type": "stream",
          "text": [
            "Colab notebook detected. To show errors in colab notebook, set debug=True in launch()\n",
            "Running on public URL: https://ac69e31870d5249e02.gradio.live\n",
            "\n",
            "This share link expires in 72 hours. For free permanent hosting and GPU upgrades, run `gradio deploy` from Terminal to deploy to Spaces (https://huggingface.co/spaces)\n"
          ]
        },
        {
          "data": {
            "text/plain": []
          },
          "execution_count": 65,
          "metadata": {},
          "output_type": "execute_result"
        }
      ],
      "source": [
        "#!export\n",
        "\n",
        "image = gr.Image()\n",
        "label = gr.Label()\n",
        "examples=[\n",
        "    'test_images/unknown_00.jpg',\n",
        "    'test_images/unknown_01.jpg.webp',\n",
        "    'test_images/unknown_02.webp',\n",
        "    'test_images/unknown_03.jpeg',\n",
        "    'test_images/unknown_04.jpg'\n",
        "]\n",
        "\n",
        "iface = gr.Interface(fn=recognize_image, inputs=image, outputs=label,examples=examples)\n",
        "iface.launch(inline=False,share=True)"
      ]
    },
    {
      "cell_type": "markdown",
      "metadata": {
        "id": "-RKZtKB1ZZdy"
      },
      "source": [
        "# Notebook to Python Script Export"
      ]
    },
    {
      "cell_type": "code",
      "execution_count": 66,
      "metadata": {
        "colab": {
          "base_uri": "https://localhost:8080/",
          "height": 327
        },
        "id": "Ybr_TNnBZelD",
        "outputId": "61dc9f92-f0c4-4f14-9e94-8aa9dca1ad5f"
      },
      "outputs": [
        {
          "ename": "ImportError",
          "evalue": "ignored",
          "output_type": "error",
          "traceback": [
            "\u001b[0;31m---------------------------------------------------------------------------\u001b[0m",
            "\u001b[0;31mImportError\u001b[0m                               Traceback (most recent call last)",
            "\u001b[0;32m<ipython-input-66-f5b9b5dbca04>\u001b[0m in \u001b[0;36m<cell line: 1>\u001b[0;34m()\u001b[0m\n\u001b[0;32m----> 1\u001b[0;31m \u001b[0;32mfrom\u001b[0m \u001b[0mnbdev\u001b[0m\u001b[0;34m.\u001b[0m\u001b[0mexport\u001b[0m \u001b[0;32mimport\u001b[0m \u001b[0mnotebook2script\u001b[0m\u001b[0;34m\u001b[0m\u001b[0;34m\u001b[0m\u001b[0m\n\u001b[0m\u001b[1;32m      2\u001b[0m \u001b[0mnotebook2script\u001b[0m\u001b[0;34m(\u001b[0m\u001b[0;34m'app.ipynb'\u001b[0m\u001b[0;34m)\u001b[0m\u001b[0;34m\u001b[0m\u001b[0;34m\u001b[0m\u001b[0m\n",
            "\u001b[0;31mImportError\u001b[0m: cannot import name 'notebook2script' from 'nbdev.export' (/usr/local/lib/python3.10/dist-packages/nbdev/export.py)",
            "",
            "\u001b[0;31m---------------------------------------------------------------------------\u001b[0;32m\nNOTE: If your import is failing due to a missing package, you can\nmanually install dependencies using either !pip or !apt.\n\nTo view examples of installing some common dependencies, click the\n\"Open Examples\" button below.\n\u001b[0;31m---------------------------------------------------------------------------\u001b[0m\n"
          ]
        }
      ],
      "source": [
        "from nbdev.export import notebook2script\n",
        "notebook2script('app.ipynb')"
      ]
    }
  ],
  "metadata": {
    "colab": {
      "provenance": []
    },
    "kernelspec": {
      "display_name": "Python 3",
      "name": "python3"
    },
    "language_info": {
      "codemirror_mode": {
        "name": "ipython",
        "version": 3
      },
      "file_extension": ".py",
      "mimetype": "text/x-python",
      "name": "python",
      "nbconvert_exporter": "python",
      "pygments_lexer": "ipython3",
      "version": "3.9.6"
    }
  },
  "nbformat": 4,
  "nbformat_minor": 0
}
